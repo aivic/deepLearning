{
 "cells": [
  {
   "cell_type": "code",
   "execution_count": 103,
   "metadata": {},
   "outputs": [],
   "source": [
    "from matplotlib import pyplot as plt\n",
    "%matplotlib inline\n",
    "from sklearn.preprocessing import LabelEncoder\n",
    "import keras\n",
    "import pandas as pd\n",
    "import numpy as np\n",
    "from PIL import Image\n",
    "import os\n",
    "import warnings\n",
    "warnings.filterwarnings('ignore')"
   ]
  },
  {
   "cell_type": "code",
   "execution_count": 2,
   "metadata": {},
   "outputs": [
    {
     "data": {
      "text/html": [
       "<div>\n",
       "<style scoped>\n",
       "    .dataframe tbody tr th:only-of-type {\n",
       "        vertical-align: middle;\n",
       "    }\n",
       "\n",
       "    .dataframe tbody tr th {\n",
       "        vertical-align: top;\n",
       "    }\n",
       "\n",
       "    .dataframe thead th {\n",
       "        text-align: right;\n",
       "    }\n",
       "</style>\n",
       "<table border=\"1\" class=\"dataframe\">\n",
       "  <thead>\n",
       "    <tr style=\"text-align: right;\">\n",
       "      <th></th>\n",
       "      <th>label</th>\n",
       "    </tr>\n",
       "    <tr>\n",
       "      <th>id</th>\n",
       "      <th></th>\n",
       "    </tr>\n",
       "  </thead>\n",
       "  <tbody>\n",
       "    <tr>\n",
       "      <th>1</th>\n",
       "      <td>frog</td>\n",
       "    </tr>\n",
       "    <tr>\n",
       "      <th>2</th>\n",
       "      <td>truck</td>\n",
       "    </tr>\n",
       "    <tr>\n",
       "      <th>3</th>\n",
       "      <td>truck</td>\n",
       "    </tr>\n",
       "    <tr>\n",
       "      <th>4</th>\n",
       "      <td>deer</td>\n",
       "    </tr>\n",
       "    <tr>\n",
       "      <th>5</th>\n",
       "      <td>automobile</td>\n",
       "    </tr>\n",
       "  </tbody>\n",
       "</table>\n",
       "</div>"
      ],
      "text/plain": [
       "         label\n",
       "id            \n",
       "1         frog\n",
       "2        truck\n",
       "3        truck\n",
       "4         deer\n",
       "5   automobile"
      ]
     },
     "execution_count": 2,
     "metadata": {},
     "output_type": "execute_result"
    }
   ],
   "source": [
    "labels = pd.read_csv('cifar10_Labels.csv', index_col=0)\n",
    "labels.head()"
   ]
  },
  {
   "cell_type": "code",
   "execution_count": 3,
   "metadata": {},
   "outputs": [
    {
     "name": "stdout",
     "output_type": "stream",
     "text": [
      "automobile\n"
     ]
    },
    {
     "data": {
      "image/png": "[encoded data removed]",
      "text/plain": [
       "<PIL.PngImagePlugin.PngImageFile image mode=RGB size=32x32 at 0x17CE569E518>"
      ]
     },
     "execution_count": 3,
     "metadata": {},
     "output_type": "execute_result"
    }
   ],
   "source": [
    "# View an image\n",
    "img_idx = 5\n",
    "print(labels.label[img_idx])\n",
    "Image.open('cifar10/'+str(img_idx)+'.png')"
   ]
  },
  {
   "cell_type": "code",
   "execution_count": 174,
   "metadata": {},
   "outputs": [],
   "source": [
    "# Splitting data into Train and Test data\n",
    "from sklearn.model_selection import train_test_split\n",
    "y_train, y_test = train_test_split(labels.label, test_size=0.3, random_state=42)\n",
    "train_idx, test_idx = y_train.index, y_test.index # Stroing indexes for later use"
   ]
  },
  {
   "cell_type": "code",
   "execution_count": 7,
   "metadata": {},
   "outputs": [],
   "source": [
    "# Reading images for training \n",
    "temp = []\n",
    "# cnt = 1\n",
    "for img_idx in y_train.index:\n",
    "    img_path = os.path.join('cifar10/', str(img_idx) + '.png')\n",
    "    img = np.array(Image.open(img_path)).astype('float32')        \n",
    "    temp.append(img)    \n",
    "#     print(cnt)\n",
    "#     cnt+=1\n",
    "X_train = np.stack(temp)"
   ]
  },
  {
   "cell_type": "code",
   "execution_count": 9,
   "metadata": {},
   "outputs": [],
   "source": [
    "# Reading images for testing \n",
    "temp = []\n",
    "# cnt = 1\n",
    "for img_idx in y_test.index:\n",
    "    img_path = os.path.join('cifar10/', str(img_idx) + '.png')\n",
    "    img = np.array(Image.open(img_path)).astype('float32')        \n",
    "    temp.append(img)\n",
    "#     print(cnt)\n",
    "#     cnt+=1\n",
    "X_test = np.stack(temp)"
   ]
  },
  {
   "cell_type": "code",
   "execution_count": 10,
   "metadata": {},
   "outputs": [],
   "source": [
    "# Normalizing image data\n",
    "X_train = X_train/255.\n",
    "X_test = X_test/255."
   ]
  },
  {
   "cell_type": "code",
   "execution_count": 11,
   "metadata": {},
   "outputs": [],
   "source": [
    "# One-hot encoding 10 output classes\n",
    "encode_X = LabelEncoder()\n",
    "encode_X_fit = encode_X.fit_transform(y_train)\n",
    "y_train = keras.utils.np_utils.to_categorical(encode_X_fit)\n",
    "\n",
    "encode_y = LabelEncoder()\n",
    "encode_y_fit = encode_y.fit_transform(y_test)\n",
    "y_test = keras.utils.np_utils.to_categorical(encode_y_fit)"
   ]
  },
  {
   "cell_type": "code",
   "execution_count": 320,
   "metadata": {},
   "outputs": [],
   "source": [
    "# Defining CNN network\n",
    "\n",
    "num_classes = 10\n",
    "model = keras.models.Sequential([    \n",
    "    # Adding first convolutional layer\n",
    "    keras.layers.Conv2D(filters=32, kernel_size=(3, 3), strides=1, padding='same', activation='relu', \n",
    "                        kernel_regularizer=keras.regularizers.l2(0.001), input_shape=(32, 32, 3), name='Conv_1'), \n",
    "    # Normalizing the parameters from last layer to speed up the performance (optional)\n",
    "    keras.layers.BatchNormalization(name='BN_1'),\n",
    "    # Adding first pooling layer\n",
    "    keras.layers.MaxPool2D(pool_size=(2, 2), name='MaxPool_1'),\n",
    "    # Adding second convolutional layer\n",
    "    keras.layers.Conv2D(filters=64, kernel_size=(3, 3), strides=1, padding='same', activation='relu', \n",
    "                        kernel_regularizer=keras.regularizers.l2(0.001), name='Conv_2'),    \n",
    "    keras.layers.BatchNormalization(name='BN_2'),\n",
    "    # Adding second pooling layer\n",
    "    keras.layers.MaxPool2D(pool_size=(2, 2), name='MaxPool_2'),\n",
    "    # Flattens the input\n",
    "    keras.layers.Flatten(name='Flat'),\n",
    "    # Fully-Connected layer\n",
    "    keras.layers.Dense(num_classes, activation='softmax', name='pred_layer')    \n",
    "])"
   ]
  },
  {
   "cell_type": "code",
   "execution_count": 323,
   "metadata": {},
   "outputs": [
    {
     "name": "stdout",
     "output_type": "stream",
     "text": [
      "_________________________________________________________________\n",
      "Layer (type)                 Output Shape              Param #   \n",
      "=================================================================\n",
      "Conv_1 (Conv2D)              (None, 32, 32, 32)        896       \n",
      "_________________________________________________________________\n",
      "BN_1 (BatchNormalization)    (None, 32, 32, 32)        128       \n",
      "_________________________________________________________________\n",
      "MaxPool_1 (MaxPooling2D)     (None, 16, 16, 32)        0         \n",
      "_________________________________________________________________\n",
      "Conv_2 (Conv2D)              (None, 16, 16, 64)        18496     \n",
      "_________________________________________________________________\n",
      "BN_2 (BatchNormalization)    (None, 16, 16, 64)        256       \n",
      "_________________________________________________________________\n",
      "MaxPool_2 (MaxPooling2D)     (None, 8, 8, 64)          0         \n",
      "_________________________________________________________________\n",
      "Flat (Flatten)               (None, 4096)              0         \n",
      "_________________________________________________________________\n",
      "pred_layer (Dense)           (None, 10)                40970     \n",
      "=================================================================\n",
      "Total params: 60,746\n",
      "Trainable params: 60,554\n",
      "Non-trainable params: 192\n",
      "_________________________________________________________________\n"
     ]
    }
   ],
   "source": [
    "model.summary()"
   ]
  },
  {
   "cell_type": "code",
   "execution_count": 324,
   "metadata": {},
   "outputs": [],
   "source": [
    "model.compile(loss='categorical_crossentropy', \n",
    "              optimizer=keras.optimizers.Adam(), \n",
    "              metrics=['accuracy'])"
   ]
  },
  {
   "cell_type": "code",
   "execution_count": 102,
   "metadata": {},
   "outputs": [
    {
     "name": "stdout",
     "output_type": "stream",
     "text": [
      "Train on 28000 samples, validate on 7000 samples\n",
      "Epoch 1/5\n",
      "28000/28000 [==============================] - 379s 14ms/step - loss: 1.7326 - acc: 0.4736 - val_loss: 1.7605 - val_acc: 0.4581\n",
      "\n",
      "Epoch 00001: val_acc improved from -inf to 0.45814, saving model to CIFAR10_checkpoint.hdf5\n",
      "Epoch 2/5\n",
      "28000/28000 [==============================] - 351s 13ms/step - loss: 1.2379 - acc: 0.6019 - val_loss: 1.7944 - val_acc: 0.4793\n",
      "\n",
      "Epoch 00002: val_acc improved from 0.45814 to 0.47929, saving model to CIFAR10_checkpoint.hdf5\n",
      "Epoch 3/5\n",
      "28000/28000 [==============================] - 353s 13ms/step - loss: 1.0563 - acc: 0.6564 - val_loss: 1.2411 - val_acc: 0.6099\n",
      "\n",
      "Epoch 00003: val_acc improved from 0.47929 to 0.60986, saving model to CIFAR10_checkpoint.hdf5\n",
      "Epoch 4/5\n",
      "28000/28000 [==============================] - 379s 14ms/step - loss: 0.9514 - acc: 0.6893 - val_loss: 1.3454 - val_acc: 0.5811\n",
      "\n",
      "Epoch 00004: val_acc did not improve\n",
      "Epoch 5/5\n",
      "28000/28000 [==============================] - 392s 14ms/step - loss: 0.8666 - acc: 0.7163 - val_loss: 1.2015 - val_acc: 0.6327\n",
      "\n",
      "Epoch 00005: val_acc improved from 0.60986 to 0.63271, saving model to CIFAR10_checkpoint.hdf5\n"
     ]
    },
    {
     "data": {
      "text/plain": [
       "<keras.callbacks.History at 0x17c9b07fe48>"
      ]
     },
     "execution_count": 102,
     "metadata": {},
     "output_type": "execute_result"
    }
   ],
   "source": [
    "cpfile = r'CIFAR10_checkpoint.hdf5' # Weights to be stored in HDF5 format\n",
    "cb_checkpoint = keras.callbacks.ModelCheckpoint(cpfile, monitor='val_acc', verbose=1, save_best_only=True, mode='max')\n",
    "epochs = 5\n",
    "model.fit(X_train, y_train, epochs=epochs, validation_split=0.2, callbacks=[cb_checkpoint])"
   ]
  },
  {
   "cell_type": "code",
   "execution_count": 234,
   "metadata": {},
   "outputs": [
    {
     "data": {
      "text/html": [
       "<div>\n",
       "<style scoped>\n",
       "    .dataframe tbody tr th:only-of-type {\n",
       "        vertical-align: middle;\n",
       "    }\n",
       "\n",
       "    .dataframe tbody tr th {\n",
       "        vertical-align: top;\n",
       "    }\n",
       "\n",
       "    .dataframe thead th {\n",
       "        text-align: right;\n",
       "    }\n",
       "</style>\n",
       "<table border=\"1\" class=\"dataframe\">\n",
       "  <thead>\n",
       "    <tr style=\"text-align: right;\">\n",
       "      <th></th>\n",
       "      <th>predicted</th>\n",
       "      <th>actual</th>\n",
       "    </tr>\n",
       "  </thead>\n",
       "  <tbody>\n",
       "    <tr>\n",
       "      <th>0</th>\n",
       "      <td>truck</td>\n",
       "      <td>horse</td>\n",
       "    </tr>\n",
       "    <tr>\n",
       "      <th>1</th>\n",
       "      <td>ship</td>\n",
       "      <td>ship</td>\n",
       "    </tr>\n",
       "    <tr>\n",
       "      <th>2</th>\n",
       "      <td>ship</td>\n",
       "      <td>airplane</td>\n",
       "    </tr>\n",
       "    <tr>\n",
       "      <th>3</th>\n",
       "      <td>frog</td>\n",
       "      <td>frog</td>\n",
       "    </tr>\n",
       "    <tr>\n",
       "      <th>4</th>\n",
       "      <td>automobile</td>\n",
       "      <td>automobile</td>\n",
       "    </tr>\n",
       "    <tr>\n",
       "      <th>5</th>\n",
       "      <td>frog</td>\n",
       "      <td>frog</td>\n",
       "    </tr>\n",
       "    <tr>\n",
       "      <th>6</th>\n",
       "      <td>ship</td>\n",
       "      <td>ship</td>\n",
       "    </tr>\n",
       "    <tr>\n",
       "      <th>7</th>\n",
       "      <td>airplane</td>\n",
       "      <td>airplane</td>\n",
       "    </tr>\n",
       "    <tr>\n",
       "      <th>8</th>\n",
       "      <td>frog</td>\n",
       "      <td>frog</td>\n",
       "    </tr>\n",
       "    <tr>\n",
       "      <th>9</th>\n",
       "      <td>ship</td>\n",
       "      <td>dog</td>\n",
       "    </tr>\n",
       "  </tbody>\n",
       "</table>\n",
       "</div>"
      ],
      "text/plain": [
       "    predicted      actual\n",
       "0       truck       horse\n",
       "1        ship        ship\n",
       "2        ship    airplane\n",
       "3        frog        frog\n",
       "4  automobile  automobile\n",
       "5        frog        frog\n",
       "6        ship        ship\n",
       "7    airplane    airplane\n",
       "8        frog        frog\n",
       "9        ship         dog"
      ]
     },
     "execution_count": 234,
     "metadata": {},
     "output_type": "execute_result"
    }
   ],
   "source": [
    "# << DeprecationWarning: The truth value of an empty array is ambiguous >> can arise due to a NumPy version higher than 1.13.3.\n",
    "# The issue will be updated in upcoming version.\n",
    "pred = encode_y.inverse_transform(model.predict_classes(X_test[:10])) \n",
    "act = encode_y.inverse_transform([np.argmax(x) for x in y_test[:10]])\n",
    "\n",
    "res = pd.DataFrame([pred, act]).T\n",
    "res.columns = ['predicted', 'actual']\n",
    "res"
   ]
  },
  {
   "cell_type": "markdown",
   "metadata": {},
   "source": [
    "## CNN Conv and MaxPool Layers' filters visualization\n",
    "- Provide an absolute path for both `temp_folder` and `input_folder` \n",
    "- Make sure to put test images inside `img` folder\n",
    "- Make sure to create an empty `tmp` folder\n",
    "- The visualization will start on `http://localhost:5000`\n",
    "- Proceed by clicking each layer sequentially, halt until the images for a clicked layer are generated/saved in `tmp` folder.\n",
    "- Interrupt the kernel to stop the execution."
   ]
  },
  {
   "cell_type": "code",
   "execution_count": 64,
   "metadata": {},
   "outputs": [],
   "source": [
    "from quiver_engine import server # pip install quiver_engine | for CNN layer's filters visualization.\n",
    "server.launch(model, temp_folder='/Desktop/tmp', \n",
    "              input_folder='/Desktop/img') "
   ]
  },
  {
   "cell_type": "markdown",
   "metadata": {},
   "source": [
    "## CNN Dense layer visualization"
   ]
  },
  {
   "cell_type": "code",
   "execution_count": 285,
   "metadata": {},
   "outputs": [],
   "source": [
    "from vis.visualization import visualize_saliency, visualize_cam, overlay\n",
    "from vis.utils import utils"
   ]
  },
  {
   "cell_type": "code",
   "execution_count": 244,
   "metadata": {},
   "outputs": [
    {
     "data": {
      "text/plain": [
       "array(['airplane', 'automobile', 'bird', 'cat', 'deer', 'dog', 'frog',\n",
       "       'horse', 'ship', 'truck'], dtype=object)"
      ]
     },
     "execution_count": 244,
     "metadata": {},
     "output_type": "execute_result"
    }
   ],
   "source": [
    "# Indexes of categories for our model\n",
    "classes = encode_y.inverse_transform(np.arange(10))\n",
    "classes"
   ]
  },
  {
   "cell_type": "markdown",
   "metadata": {},
   "source": [
    "From `res` dataframe, pick an index where `predicted` class is same as `actual` class.\n",
    "Say index `6` for `ship`"
   ]
  },
  {
   "cell_type": "code",
   "execution_count": 282,
   "metadata": {},
   "outputs": [
    {
     "data": {
      "image/png": "[encoded data removed]",
      "text/plain": [
       "<Figure size 432x288 with 1 Axes>"
      ]
     },
     "metadata": {},
     "output_type": "display_data"
    }
   ],
   "source": [
    "# Fetching the ship image\n",
    "ship_img = utils.load_img('cifar10/'+str(test_idx[6])+'.png') # can use Image.open() also.\n",
    "plt.imshow(ship_img)\n",
    "plt.title('Ship image')\n",
    "plt.show()"
   ]
  },
  {
   "cell_type": "code",
   "execution_count": 278,
   "metadata": {},
   "outputs": [
    {
     "data": {
      "image/png": "[encoded data removed]",
      "text/plain": [
       "<Figure size 432x288 with 1 Axes>"
      ]
     },
     "metadata": {},
     "output_type": "display_data"
    }
   ],
   "source": [
    "# Predicting the probability for each of the class\n",
    "ship_prob = model.predict(X_test[6:7]).ravel().copy()\n",
    "pd.Series(ship_prob, index=classes).plot.barh()\n",
    "plt.title('Predicted probability of actual ship image by Conv model')\n",
    "plt.show()"
   ]
  },
  {
   "cell_type": "markdown",
   "metadata": {},
   "source": [
    "To visualize activation over final dense layer outputs, we need to switch the softmax activation out for linear since gradient of output node will depend on all the other node activations"
   ]
  },
  {
   "cell_type": "code",
   "execution_count": 327,
   "metadata": {},
   "outputs": [],
   "source": [
    "# Utility to search for layer index by name. \n",
    "layer_idx = utils.find_layer_idx(model, 'pred_layer')\n",
    "\n",
    "# Swap softmax with linear\n",
    "model.layers[layer_idx].activation = keras.activations.linear\n",
    "model = utils.apply_modifications(model)"
   ]
  },
  {
   "cell_type": "markdown",
   "metadata": {},
   "source": [
    "### 1. Saliency map\n",
    "Saliency maps clarifies which part does our model focuses on to get prediction."
   ]
  },
  {
   "cell_type": "code",
   "execution_count": 284,
   "metadata": {},
   "outputs": [
    {
     "data": {
      "image/png": "[encoded data removed]",
      "text/plain": [
       "<Figure size 864x432 with 10 Axes>"
      ]
     },
     "metadata": {},
     "output_type": "display_data"
    }
   ],
   "source": [
    "plt.figure(figsize=(12,6))\n",
    "for i in range(len(classes)):\n",
    "    plt.subplot(2, 5, i + 1)\n",
    "    grads = visualize_saliency(model, layer_idx, filter_indices=i, seed_input=ship_img, backprop_modifier='guided')\n",
    "    plt.xticks([])\n",
    "    plt.yticks([])\n",
    "    plt.xlabel(classes[i])\n",
    "    plt.title('p=' + str(np.round(ship_prob[i], 4)))\n",
    "    plt.imshow(grads, cmap='jet')\n",
    "plt.show()"
   ]
  },
  {
   "cell_type": "markdown",
   "metadata": {},
   "source": [
    "As shown in probability graph only first two and last two nodes are active, leaving center 6 almost dead. The second last node meant for `ship` has the highest probability and as seen in above plot only emphasize on region of ship. Other 3 active nodes includes noise and thus reduced probability."
   ]
  },
  {
   "cell_type": "markdown",
   "metadata": {},
   "source": [
    "### 2. Class activation maps or Grad-cam\n",
    "These contain more detail since they use Conv or Pooling features that contain more spatial detail which is lost in Dense layers. The only additional detail compared to saliency is the `penultimate_layer_idx`. This specifies the pre-layer whose gradients should be used."
   ]
  },
  {
   "cell_type": "code",
   "execution_count": 328,
   "metadata": {},
   "outputs": [
    {
     "data": {
      "image/png": "[encoded data removed]",
      "text/plain": [
       "<Figure size 864x432 with 10 Axes>"
      ]
     },
     "metadata": {},
     "output_type": "display_data"
    }
   ],
   "source": [
    "plt.figure(figsize=(12,6))\n",
    "for i in range(len(classes)):\n",
    "    plt.subplot(2, 5, i + 1)\n",
    "    cam_grads = visualize_cam(model, layer_idx, filter_indices=i, seed_input=ship_img, backprop_modifier='guided',\n",
    "                             penultimate_layer_idx=utils.find_layer_idx(model, 'BN_2'))# batch_normalization_14\n",
    "    plt.xticks([])\n",
    "    plt.yticks([])\n",
    "    plt.xlabel(classes[i])\n",
    "    plt.title('p=' + str(np.round(ship_prob[i], 4)))\n",
    "    plt.imshow(overlay(cam_grads, ship_img, alpha=0.3))\n",
    "plt.show()"
   ]
  },
  {
   "cell_type": "markdown",
   "metadata": {},
   "source": [
    "The ninth subplot constitute of a contour plot overlayed over original image which captures ship structure better than other three countour plots which are heavily affected by noise.  \n",
    "Center six nodes are almost dead so no countour plot."
   ]
  }
 ],
 "metadata": {
  "kernelspec": {
   "display_name": "Python 3",
   "language": "python",
   "name": "python3"
  },
  "language_info": {
   "codemirror_mode": {
    "name": "ipython",
    "version": 3
   },
   "file_extension": ".py",
   "mimetype": "text/x-python",
   "name": "python",
   "nbconvert_exporter": "python",
   "pygments_lexer": "ipython3",
   "version": "3.6.4"
  }
 },
 "nbformat": 4,
 "nbformat_minor": 2
}
