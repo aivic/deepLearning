{
 "cells": [
  {
   "cell_type": "markdown",
   "metadata": {},
   "source": [
    "#### Implementing dropout regularization on Fashion MNIST dataset using MLP"
   ]
  },
  {
   "cell_type": "code",
   "execution_count": 1,
   "metadata": {},
   "outputs": [
    {
     "name": "stderr",
     "output_type": "stream",
     "text": [
      "D:\\Anaconda\\lib\\site-packages\\h5py\\__init__.py:36: FutureWarning: Conversion of the second argument of issubdtype from `float` to `np.floating` is deprecated. In future, it will be treated as `np.float64 == np.dtype(float).type`.\n",
      "  from ._conv import register_converters as _register_converters\n",
      "Using TensorFlow backend.\n"
     ]
    }
   ],
   "source": [
    "import numpy as np\n",
    "import pandas as pd\n",
    "import matplotlib.pyplot as plt\n",
    "import tensorflow as tf\n",
    "import keras # Don't import keras from tensorflow like (from tensorflow import keras)\n",
    "import seaborn as sns"
   ]
  },
  {
   "cell_type": "code",
   "execution_count": 2,
   "metadata": {},
   "outputs": [],
   "source": [
    "# Reading train and test data\n",
    "train_data = pd.read_csv('fashion-mnist_train.csv')\n",
    "test_data = pd.read_csv('fashion-mnist_test.csv')"
   ]
  },
  {
   "cell_type": "code",
   "execution_count": 3,
   "metadata": {},
   "outputs": [],
   "source": [
    "# Class names\n",
    "class_names = ['T-shirt/top', 'Trouser', 'Pullover', 'Dress', 'Coat', \n",
    "               'Sandal', 'Shirt', 'Sneaker', 'Bag', 'Ankle boot']\n",
    "\n",
    "# Making validation data out of test data\n",
    "val_data = test_data.iloc[:5000,:]\n",
    "test_data = test_data.iloc[5000:,:]\n",
    "\n",
    "# Fetching the labels\n",
    "train_labels = train_data.label\n",
    "val_labels = val_data.label\n",
    "test_labels = test_data.label\n",
    "\n",
    "# Reshaping training data\n",
    "train_images = train_data.iloc[:,1:].values.reshape(60000, 28, 28)\n",
    "\n",
    "# Reshaping validation data\n",
    "val_images = val_data.iloc[:,1:].values.reshape(5000, 28, 28)\n",
    "\n",
    "# Reshaping test data\n",
    "test_images = test_data.iloc[:,1:].values.reshape(5000, 28, 28)\n",
    "\n",
    "# Scaling data in the range of 0-1\n",
    "train_images = train_images/255.0\n",
    "val_images = val_images/255.0\n",
    "test_images = test_images/255.0"
   ]
  },
  {
   "cell_type": "code",
   "execution_count": 6,
   "metadata": {},
   "outputs": [
    {
     "name": "stdout",
     "output_type": "stream",
     "text": [
      "Train on 60000 samples, validate on 5000 samples\n",
      "Epoch 1/5\n",
      "60000/60000 [==============================] - 15s 257us/step - loss: 0.5315 - acc: 0.8111 - val_loss: 0.3935 - val_acc: 0.8592\n",
      "Epoch 2/5\n",
      "60000/60000 [==============================] - 16s 268us/step - loss: 0.4070 - acc: 0.8516 - val_loss: 0.3652 - val_acc: 0.8624\n",
      "Epoch 3/5\n",
      "60000/60000 [==============================] - 16s 264us/step - loss: 0.3761 - acc: 0.8630 - val_loss: 0.3403 - val_acc: 0.8736\n",
      "Epoch 4/5\n",
      "60000/60000 [==============================] - 15s 245us/step - loss: 0.3550 - acc: 0.8715 - val_loss: 0.3281 - val_acc: 0.8796\n",
      "Epoch 5/5\n",
      "60000/60000 [==============================] - 14s 227us/step - loss: 0.3421 - acc: 0.8750 - val_loss: 0.3295 - val_acc: 0.8766\n"
     ]
    },
    {
     "data": {
      "text/plain": [
       "<keras.callbacks.History at 0x27af6d71320>"
      ]
     },
     "execution_count": 6,
     "metadata": {},
     "output_type": "execute_result"
    }
   ],
   "source": [
    "model = keras.Sequential([\n",
    "        keras.layers.Flatten(input_shape=(28, 28)),   \n",
    "        # Dropout layer can also be added between input layer and first hidden layer.\n",
    "        # keras.layers.Dropout(0.30),\n",
    "        \n",
    "        # According to dropout paper, the maximum norm of the weights should not exceed a value of 3. \n",
    "        # Hence, defining constraint maxnorm(3).\n",
    "        keras.layers.Dense(256, activation=tf.nn.relu, \n",
    "                           kernel_constraint=keras.constraints.maxnorm(3)), \n",
    "        keras.layers.Dropout(0.30), # Dropout layer with 30% of input units of last layer to drop\n",
    "        keras.layers.Dense(10, activation=tf.nn.softmax) \n",
    "        ]) \n",
    "\n",
    "# Defining parameters like optmizer, loss function and evaluating metric\n",
    "model.compile(loss='sparse_categorical_crossentropy', # \n",
    "        optimizer=keras.optimizers.Adam(), # Learning rate and momentum can be passed inside optimizer\n",
    "        metrics=['accuracy'])\n",
    "\n",
    "epochs = 5\n",
    "model.fit(train_images, train_labels, epochs=epochs, \n",
    "        validation_data=(val_images, val_labels))"
   ]
  },
  {
   "cell_type": "code",
   "execution_count": null,
   "metadata": {},
   "outputs": [],
   "source": []
  }
 ],
 "metadata": {
  "kernelspec": {
   "display_name": "Python 3",
   "language": "python",
   "name": "python3"
  },
  "language_info": {
   "codemirror_mode": {
    "name": "ipython",
    "version": 3
   },
   "file_extension": ".py",
   "mimetype": "text/x-python",
   "name": "python",
   "nbconvert_exporter": "python",
   "pygments_lexer": "ipython3",
   "version": "3.6.4"
  }
 },
 "nbformat": 4,
 "nbformat_minor": 2
}
