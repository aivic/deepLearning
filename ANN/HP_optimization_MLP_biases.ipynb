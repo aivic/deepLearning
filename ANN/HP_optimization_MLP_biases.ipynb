{
 "cells": [
  {
   "cell_type": "markdown",
   "metadata": {},
   "source": [
    "#### Optimum biases on Fashion MNIST dataset using MLP"
   ]
  },
  {
   "cell_type": "code",
   "execution_count": 46,
   "metadata": {},
   "outputs": [],
   "source": [
    "import numpy as np\n",
    "import pandas as pd\n",
    "import matplotlib.pyplot as plt\n",
    "import tensorflow as tf\n",
    "import keras # Don't import keras from tensorflow like (from tensorflow import keras)\n",
    "import seaborn as sns"
   ]
  },
  {
   "cell_type": "code",
   "execution_count": 24,
   "metadata": {},
   "outputs": [],
   "source": [
    "# Reading train and test data\n",
    "train_data = pd.read_csv('fashion-mnist_train.csv')\n",
    "test_data = pd.read_csv('fashion-mnist_test.csv')"
   ]
  },
  {
   "cell_type": "code",
   "execution_count": 25,
   "metadata": {},
   "outputs": [],
   "source": [
    "# Class names\n",
    "class_names = ['T-shirt/top', 'Trouser', 'Pullover', 'Dress', 'Coat', \n",
    "               'Sandal', 'Shirt', 'Sneaker', 'Bag', 'Ankle boot']\n",
    "\n",
    "# Making validation data out of test data\n",
    "val_data = test_data.iloc[:5000,:]\n",
    "test_data = test_data.iloc[5000:,:]\n",
    "\n",
    "# Fetching the labels\n",
    "train_labels = train_data.label\n",
    "val_labels = val_data.label\n",
    "test_labels = test_data.label\n",
    "\n",
    "# Reshaping training data\n",
    "train_images = train_data.iloc[:,1:].values.reshape(60000, 28, 28)\n",
    "\n",
    "# Reshaping validation data\n",
    "val_images = val_data.iloc[:,1:].values.reshape(5000, 28, 28)\n",
    "\n",
    "# Reshaping test data\n",
    "test_images = test_data.iloc[:,1:].values.reshape(5000, 28, 28)\n",
    "\n",
    "# Scaling data in the range of 0-1\n",
    "train_images = train_images/255.0\n",
    "val_images = val_images/255.0\n",
    "test_images = test_images/255.0"
   ]
  },
  {
   "cell_type": "code",
   "execution_count": 61,
   "metadata": {},
   "outputs": [],
   "source": [
    "def bias_initializer(list_of_biases, bias_names):\n",
    "    for bias_init in range(len(list_of_biases)):        \n",
    "        # Writing structure of model\n",
    "        model = keras.Sequential([\n",
    "            keras.layers.Flatten(input_shape=(28, 28)), \n",
    "            keras.layers.Dense(256, bias_initializer=list_of_biases[bias_init], activation=tf.nn.relu), \n",
    "            keras.layers.Dense(10, activation=tf.nn.softmax) \n",
    "        ])      \n",
    "\n",
    "        # Defining parameters like optmizer, loss function and evaluating metric\n",
    "        model.compile(loss='sparse_categorical_crossentropy', # \n",
    "                      optimizer=keras.optimizers.Adam(), # Learning rate and momentum can be passed inside optimizer\n",
    "                      metrics=['accuracy'])\n",
    "\n",
    "        # Traning the model and writing log file for TensorBoard\n",
    "        \n",
    "        logdir = r'biases\\\\' + bias_names[bias_init] # Each log file needs to be written in a distinct directory. (Mandatory)        \n",
    "\n",
    "        # To store tensorboard graph logs\n",
    "        cb_tensorboard = keras.callbacks.TensorBoard(log_dir=logdir, write_graph=False) \n",
    "\n",
    "        epochs = 5\n",
    "        print('Model building using ' + bias_names[bias_init] + ' Bias Initializer')\n",
    "        model.fit(train_images, train_labels, epochs=epochs, \n",
    "                    validation_data=(val_images, val_labels),\n",
    "                    callbacks=[cb_tensorboard])\n",
    "        print('Model built successfully.')\n",
    "        print('')"
   ]
  },
  {
   "cell_type": "code",
   "execution_count": 62,
   "metadata": {},
   "outputs": [
    {
     "name": "stdout",
     "output_type": "stream",
     "text": [
      "Model building using 0 Bias Initializer\n",
      "Train on 60000 samples, validate on 5000 samples\n",
      "Epoch 1/5\n",
      "60000/60000 [==============================] - 12s 206us/step - loss: 0.4922 - acc: 0.8266 - val_loss: 0.3889 - val_acc: 0.8572\n",
      "Epoch 2/5\n",
      "60000/60000 [==============================] - 13s 214us/step - loss: 0.3709 - acc: 0.8670 - val_loss: 0.3588 - val_acc: 0.8664\n",
      "Epoch 3/5\n",
      "60000/60000 [==============================] - 12s 200us/step - loss: 0.3300 - acc: 0.8796 - val_loss: 0.3529 - val_acc: 0.8686\n",
      "Epoch 4/5\n",
      "60000/60000 [==============================] - 13s 208us/step - loss: 0.3064 - acc: 0.8866 - val_loss: 0.3190 - val_acc: 0.8838\n",
      "Epoch 5/5\n",
      "60000/60000 [==============================] - 12s 204us/step - loss: 0.2893 - acc: 0.8937 - val_loss: 0.3600 - val_acc: 0.8690\n",
      "Model built successfully.\n",
      "\n",
      "Model building using 0.01 Bias Initializer\n",
      "Train on 60000 samples, validate on 5000 samples\n",
      "Epoch 1/5\n",
      "60000/60000 [==============================] - 12s 200us/step - loss: 0.4895 - acc: 0.8256 - val_loss: 0.4075 - val_acc: 0.8504\n",
      "Epoch 2/5\n",
      "60000/60000 [==============================] - 12s 201us/step - loss: 0.3709 - acc: 0.8648 - val_loss: 0.4060 - val_acc: 0.8518\n",
      "Epoch 3/5\n",
      "60000/60000 [==============================] - 13s 213us/step - loss: 0.3312 - acc: 0.8803 - val_loss: 0.3308 - val_acc: 0.8748\n",
      "Epoch 4/5\n",
      "60000/60000 [==============================] - 13s 214us/step - loss: 0.3096 - acc: 0.8858 - val_loss: 0.3240 - val_acc: 0.8812\n",
      "Epoch 5/5\n",
      "60000/60000 [==============================] - 11s 180us/step - loss: 0.2897 - acc: 0.8931 - val_loss: 0.3040 - val_acc: 0.8842\n",
      "Model built successfully.\n",
      "\n",
      "Model building using 0.1 Bias Initializer\n",
      "Train on 60000 samples, validate on 5000 samples\n",
      "Epoch 1/5\n",
      "60000/60000 [==============================] - 12s 207us/step - loss: 0.4840 - acc: 0.8269 - val_loss: 0.3874 - val_acc: 0.8594\n",
      "Epoch 2/5\n",
      "60000/60000 [==============================] - 12s 201us/step - loss: 0.3643 - acc: 0.8677 - val_loss: 0.3731 - val_acc: 0.8584\n",
      "Epoch 3/5\n",
      "60000/60000 [==============================] - 13s 219us/step - loss: 0.3323 - acc: 0.8785 - val_loss: 0.3409 - val_acc: 0.8708\n",
      "Epoch 4/5\n",
      "60000/60000 [==============================] - 14s 230us/step - loss: 0.3058 - acc: 0.8864 - val_loss: 0.3608 - val_acc: 0.8646\n",
      "Epoch 5/5\n",
      "60000/60000 [==============================] - 14s 228us/step - loss: 0.2869 - acc: 0.8947 - val_loss: 0.3079 - val_acc: 0.8820\n",
      "Model built successfully.\n",
      "\n"
     ]
    }
   ],
   "source": [
    "list_of_biases = [keras.initializers.Zeros(), keras.initializers.Constant(value=0.01), keras.initializers.Constant(value=0.1)]\n",
    "bias_names = ['0', '0.01', '0.1']\n",
    "bias_initializer(list_of_biases, bias_names)"
   ]
  },
  {
   "cell_type": "markdown",
   "metadata": {},
   "source": [
    "#### Open tensorboard in `biases` directory"
   ]
  }
 ],
 "metadata": {
  "kernelspec": {
   "display_name": "Python 3",
   "language": "python",
   "name": "python3"
  },
  "language_info": {
   "codemirror_mode": {
    "name": "ipython",
    "version": 3
   },
   "file_extension": ".py",
   "mimetype": "text/x-python",
   "name": "python",
   "nbconvert_exporter": "python",
   "pygments_lexer": "ipython3",
   "version": "3.6.4"
  }
 },
 "nbformat": 4,
 "nbformat_minor": 2
}
