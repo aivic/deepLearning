{
 "cells": [
  {
   "cell_type": "markdown",
   "metadata": {},
   "source": [
    "#### Optimum learning rate on Fashion MNIST dataset using MLP"
   ]
  },
  {
   "cell_type": "code",
   "execution_count": 1,
   "metadata": {},
   "outputs": [
    {
     "name": "stderr",
     "output_type": "stream",
     "text": [
      "D:\\Anaconda\\lib\\site-packages\\h5py\\__init__.py:36: FutureWarning: Conversion of the second argument of issubdtype from `float` to `np.floating` is deprecated. In future, it will be treated as `np.float64 == np.dtype(float).type`.\n",
      "  from ._conv import register_converters as _register_converters\n",
      "Using TensorFlow backend.\n"
     ]
    }
   ],
   "source": [
    "import numpy as np\n",
    "import pandas as pd\n",
    "import matplotlib.pyplot as plt\n",
    "import tensorflow as tf\n",
    "import keras # Don't import keras from tensorflow like (from tensorflow import keras)\n",
    "import keras_lr_finder as lr_find # For finding optimum learning rate [pip install keras_lr_finder]\n",
    "import seaborn as sns"
   ]
  },
  {
   "cell_type": "code",
   "execution_count": 2,
   "metadata": {},
   "outputs": [],
   "source": [
    "# Reading train and test data\n",
    "train_data = pd.read_csv('fashion-mnist_train.csv')\n",
    "test_data = pd.read_csv('fashion-mnist_test.csv')"
   ]
  },
  {
   "cell_type": "code",
   "execution_count": 3,
   "metadata": {},
   "outputs": [],
   "source": [
    "# Class names\n",
    "class_names = ['T-shirt/top', 'Trouser', 'Pullover', 'Dress', 'Coat', \n",
    "               'Sandal', 'Shirt', 'Sneaker', 'Bag', 'Ankle boot']\n",
    "\n",
    "# Making validation data out of test data\n",
    "val_data = test_data.iloc[:5000,:]\n",
    "test_data = test_data.iloc[5000:,:]\n",
    "\n",
    "# Fetching the labels\n",
    "train_labels = train_data.label\n",
    "val_labels = val_data.label\n",
    "test_labels = test_data.label\n",
    "\n",
    "# Reshaping training data\n",
    "train_images = train_data.iloc[:,1:].values.reshape(60000, 28, 28)\n",
    "\n",
    "# Reshaping validation data\n",
    "val_images = val_data.iloc[:,1:].values.reshape(5000, 28, 28)\n",
    "\n",
    "# Reshaping test data\n",
    "test_images = test_data.iloc[:,1:].values.reshape(5000, 28, 28)\n",
    "\n",
    "# Scaling data in the range of 0-1\n",
    "train_images = train_images/255.0\n",
    "val_images = val_images/255.0\n",
    "test_images = test_images/255.0"
   ]
  },
  {
   "cell_type": "code",
   "execution_count": 4,
   "metadata": {},
   "outputs": [],
   "source": [
    "# Defining multi-layer perceptron model with 1 hidden layer having 256 neurons and output layer with 10 possible answers\n",
    "model = keras.Sequential([\n",
    "    keras.layers.Flatten(input_shape=(28, 28)), # Perform conversion of higher dimensional data (here, 2-D) to 1-D data.\n",
    "    keras.layers.Dense(256, activation=tf.nn.relu), # Hidden layer with 256 neurons and ReLU activation function\n",
    "    keras.layers.Dense(10, activation=tf.nn.softmax) # Output layer with softmax activation function \n",
    "])                                                   # which gives final output in terms of probability. "
   ]
  },
  {
   "cell_type": "code",
   "execution_count": 5,
   "metadata": {},
   "outputs": [],
   "source": [
    "# Defining parameters like optmizer, loss function and evaluating metric\n",
    "model.compile(loss='sparse_categorical_crossentropy', # \n",
    "              optimizer=keras.optimizers.Adam(), # Learning rate and momentum can be passed inside optimizer\n",
    "              metrics=['accuracy'])"
   ]
  },
  {
   "cell_type": "code",
   "execution_count": 93,
   "metadata": {},
   "outputs": [
    {
     "name": "stdout",
     "output_type": "stream",
     "text": [
      "Epoch 1/5\n",
      "60000/60000 [==============================] - 4s 71us/step - loss: 1.1291 - acc: 0.6601\n",
      "Epoch 2/5\n",
      "60000/60000 [==============================] - 4s 67us/step - loss: 0.5396 - acc: 0.8171\n",
      "Epoch 3/5\n",
      "60000/60000 [==============================] - 4s 65us/step - loss: 0.4523 - acc: 0.8424\n",
      "Epoch 4/5\n",
      "60000/60000 [==============================] - 4s 65us/step - loss: 0.4700 - acc: 0.8324\n",
      "Epoch 5/5\n",
      "38912/60000 [==================>...........] - ETA: 1s - loss: 0.4894 - acc: 0.8279- ETA: 1s - loss: 0.4749 - acc:"
     ]
    }
   ],
   "source": [
    "lr_finder = lr_find.LRFinder(model)\n",
    "\n",
    "# Training can stop abruptly if rate is set too high. In such cases, reduce the value of end_lr. \n",
    "lr_finder.find(train_images, train_labels, start_lr=0.0001, end_lr=0.09, batch_size=512, epochs=5)"
   ]
  },
  {
   "cell_type": "code",
   "execution_count": 94,
   "metadata": {},
   "outputs": [
    {
     "data": {
      "image/png": "[encoded data removed]",
      "text/plain": [
       "<matplotlib.figure.Figure at 0x22380858208>"
      ]
     },
     "metadata": {},
     "output_type": "display_data"
    }
   ],
   "source": [
    "# Plot the loss, ignore 20 batches in the beginning and 5 in the end\n",
    "lr_finder.plot_loss(n_skip_beginning=20, n_skip_end=5)"
   ]
  },
  {
   "cell_type": "markdown",
   "metadata": {},
   "source": [
    "#### From the above figure following learning rate can be choosen due to fast decrease in loss -\n",
    "* base_lr = $10^{-4}$\n",
    "* max_lr = $10^{-3}$"
   ]
  },
  {
   "cell_type": "markdown",
   "metadata": {},
   "source": [
    "## Setting cyclic learning rate for model training\n",
    "Ensure you have `clr_callback.py` file in the same directory of current module"
   ]
  },
  {
   "cell_type": "code",
   "execution_count": 6,
   "metadata": {},
   "outputs": [],
   "source": [
    "from clr_callback import * # Importing cyclic learning rate module"
   ]
  },
  {
   "cell_type": "code",
   "execution_count": 13,
   "metadata": {},
   "outputs": [],
   "source": [
    "# Pass the values of base_lr with the value of \n",
    "cb_triangular = CyclicLR(base_lr=0.0001, max_lr=0.001, step_size=2000., mode='triangular2') # Setting callback for model"
   ]
  },
  {
   "cell_type": "code",
   "execution_count": 14,
   "metadata": {
    "scrolled": true
   },
   "outputs": [
    {
     "name": "stdout",
     "output_type": "stream",
     "text": [
      "Epoch 1/100\n",
      "\r",
      " 2000/60000 [>.............................] - ETA: 3s - loss: 0.2772 - acc: 0.9075"
     ]
    },
    {
     "name": "stderr",
     "output_type": "stream",
     "text": [
      "D:\\Anaconda\\lib\\site-packages\\keras\\models.py:942: UserWarning: The `nb_epoch` argument in `fit` has been renamed `epochs`.\n",
      "  warnings.warn('The `nb_epoch` argument in `fit` '\n"
     ]
    },
    {
     "name": "stdout",
     "output_type": "stream",
     "text": [
      "60000/60000 [==============================] - 3s 54us/step - loss: 0.2608 - acc: 0.9078\n",
      "Epoch 2/100\n",
      "60000/60000 [==============================] - 3s 53us/step - loss: 0.2569 - acc: 0.9099\n",
      "Epoch 3/100\n",
      "60000/60000 [==============================] - 3s 54us/step - loss: 0.2556 - acc: 0.9103\n",
      "Epoch 4/100\n",
      "60000/60000 [==============================] - 3s 53us/step - loss: 0.2546 - acc: 0.9101\n",
      "Epoch 5/100\n",
      "60000/60000 [==============================] - 3s 53us/step - loss: 0.2536 - acc: 0.9103\n",
      "Epoch 6/100\n",
      "60000/60000 [==============================] - 3s 53us/step - loss: 0.2533 - acc: 0.9106\n",
      "Epoch 7/100\n",
      "60000/60000 [==============================] - 3s 53us/step - loss: 0.2525 - acc: 0.9107\n",
      "Epoch 8/100\n",
      "60000/60000 [==============================] - 3s 55us/step - loss: 0.2514 - acc: 0.9113\n",
      "Epoch 9/100\n",
      "60000/60000 [==============================] - 3s 58us/step - loss: 0.2504 - acc: 0.9116\n",
      "Epoch 10/100\n",
      "60000/60000 [==============================] - 3s 53us/step - loss: 0.2489 - acc: 0.9125\n",
      "Epoch 11/100\n",
      "60000/60000 [==============================] - 3s 53us/step - loss: 0.2483 - acc: 0.9122\n",
      "Epoch 12/100\n",
      "60000/60000 [==============================] - 3s 53us/step - loss: 0.2470 - acc: 0.9128: 1s - loss: 0.\n",
      "Epoch 13/100\n",
      "60000/60000 [==============================] - 3s 56us/step - loss: 0.2467 - acc: 0.9132\n",
      "Epoch 14/100\n",
      "60000/60000 [==============================] - 4s 61us/step - loss: 0.2447 - acc: 0.9139\n",
      "Epoch 15/100\n",
      "60000/60000 [==============================] - 3s 51us/step - loss: 0.2442 - acc: 0.9142\n",
      "Epoch 16/100\n",
      "60000/60000 [==============================] - 3s 56us/step - loss: 0.2427 - acc: 0.9145\n",
      "Epoch 17/100\n",
      "60000/60000 [==============================] - 3s 51us/step - loss: 0.2411 - acc: 0.9153: 0s - loss: 0.2411 - acc: 0.9\n",
      "Epoch 18/100\n",
      "60000/60000 [==============================] - 3s 56us/step - loss: 0.2406 - acc: 0.9152\n",
      "Epoch 19/100\n",
      "60000/60000 [==============================] - 4s 58us/step - loss: 0.2393 - acc: 0.9156\n",
      "Epoch 20/100\n",
      "60000/60000 [==============================] - 3s 53us/step - loss: 0.2356 - acc: 0.9170: 0s - loss: 0.2359 - acc: 0.9\n",
      "Epoch 21/100\n",
      "60000/60000 [==============================] - 3s 53us/step - loss: 0.2353 - acc: 0.9166\n",
      "Epoch 22/100\n",
      "60000/60000 [==============================] - 3s 53us/step - loss: 0.2330 - acc: 0.9179\n",
      "Epoch 23/100\n",
      "60000/60000 [==============================] - 3s 53us/step - loss: 0.2314 - acc: 0.9183\n",
      "Epoch 24/100\n",
      "60000/60000 [==============================] - 3s 53us/step - loss: 0.2315 - acc: 0.9183\n",
      "Epoch 25/100\n",
      "60000/60000 [==============================] - 3s 54us/step - loss: 0.2273 - acc: 0.9203\n",
      "Epoch 26/100\n",
      "60000/60000 [==============================] - 3s 54us/step - loss: 0.2260 - acc: 0.9198\n",
      "Epoch 27/100\n",
      "60000/60000 [==============================] - 3s 53us/step - loss: 0.2242 - acc: 0.9209\n",
      "Epoch 28/100\n",
      "60000/60000 [==============================] - 3s 53us/step - loss: 0.2220 - acc: 0.9217: 1s - loss: 0.2213 \n",
      "Epoch 29/100\n",
      "60000/60000 [==============================] - 3s 53us/step - loss: 0.2214 - acc: 0.9214\n",
      "Epoch 30/100\n",
      "60000/60000 [==============================] - 3s 54us/step - loss: 0.2180 - acc: 0.9232: 1s - loss: 0.2152 - \n",
      "Epoch 31/100\n",
      "60000/60000 [==============================] - 3s 56us/step - loss: 0.2186 - acc: 0.9228\n",
      "Epoch 32/100\n",
      "60000/60000 [==============================] - 3s 53us/step - loss: 0.2150 - acc: 0.9238\n",
      "Epoch 33/100\n",
      "60000/60000 [==============================] - 3s 53us/step - loss: 0.2128 - acc: 0.9246\n",
      "Epoch 34/100\n",
      "60000/60000 [==============================] - 3s 56us/step - loss: 0.2094 - acc: 0.9265\n",
      "Epoch 35/100\n",
      "60000/60000 [==============================] - 3s 52us/step - loss: 0.2094 - acc: 0.9262\n",
      "Epoch 36/100\n",
      "60000/60000 [==============================] - 3s 49us/step - loss: 0.2085 - acc: 0.9263\n",
      "Epoch 37/100\n",
      "60000/60000 [==============================] - 3s 50us/step - loss: 0.2037 - acc: 0.9281\n",
      "Epoch 38/100\n",
      "60000/60000 [==============================] - 3s 49us/step - loss: 0.2003 - acc: 0.9291\n",
      "Epoch 39/100\n",
      "60000/60000 [==============================] - 3s 49us/step - loss: 0.2000 - acc: 0.9290\n",
      "Epoch 40/100\n",
      "60000/60000 [==============================] - 3s 49us/step - loss: 0.1993 - acc: 0.9303\n",
      "Epoch 41/100\n",
      "60000/60000 [==============================] - 3s 51us/step - loss: 0.1944 - acc: 0.9312\n",
      "Epoch 42/100\n",
      "60000/60000 [==============================] - 3s 49us/step - loss: 0.1961 - acc: 0.9310\n",
      "Epoch 43/100\n",
      "60000/60000 [==============================] - 3s 49us/step - loss: 0.1948 - acc: 0.9313\n",
      "Epoch 44/100\n",
      "60000/60000 [==============================] - 3s 50us/step - loss: 0.1859 - acc: 0.9345\n",
      "Epoch 45/100\n",
      "60000/60000 [==============================] - 3s 58us/step - loss: 0.1849 - acc: 0.9353\n",
      "Epoch 46/100\n",
      "60000/60000 [==============================] - 3s 57us/step - loss: 0.1829 - acc: 0.9362\n",
      "Epoch 47/100\n",
      "60000/60000 [==============================] - 3s 54us/step - loss: 0.1829 - acc: 0.9357\n",
      "Epoch 48/100\n",
      "60000/60000 [==============================] - 3s 52us/step - loss: 0.1783 - acc: 0.9386\n",
      "Epoch 49/100\n",
      "60000/60000 [==============================] - 3s 56us/step - loss: 0.1785 - acc: 0.9371\n",
      "Epoch 50/100\n",
      "60000/60000 [==============================] - 3s 53us/step - loss: 0.1750 - acc: 0.9385\n",
      "Epoch 51/100\n",
      "60000/60000 [==============================] - 3s 53us/step - loss: 0.1735 - acc: 0.9395\n",
      "Epoch 52/100\n",
      "60000/60000 [==============================] - 3s 53us/step - loss: 0.1747 - acc: 0.9393: 1s - loss: 0.1715 - \n",
      "Epoch 53/100\n",
      "60000/60000 [==============================] - 3s 55us/step - loss: 0.1717 - acc: 0.9397\n",
      "Epoch 54/100\n",
      "60000/60000 [==============================] - 3s 55us/step - loss: 0.1631 - acc: 0.9439\n",
      "Epoch 55/100\n",
      "60000/60000 [==============================] - 3s 58us/step - loss: 0.1632 - acc: 0.9444: 0s - loss: 0.1635 - acc: 0.9\n",
      "Epoch 56/100\n",
      "60000/60000 [==============================] - 3s 53us/step - loss: 0.1601 - acc: 0.9440\n",
      "Epoch 57/100\n",
      "60000/60000 [==============================] - 3s 56us/step - loss: 0.1602 - acc: 0.9450\n",
      "Epoch 58/100\n",
      "60000/60000 [==============================] - 3s 55us/step - loss: 0.1579 - acc: 0.9458\n",
      "Epoch 59/100\n",
      "60000/60000 [==============================] - 3s 53us/step - loss: 0.1553 - acc: 0.9465\n",
      "Epoch 60/100\n",
      "60000/60000 [==============================] - 3s 55us/step - loss: 0.1534 - acc: 0.9467\n",
      "Epoch 61/100\n",
      "60000/60000 [==============================] - 3s 53us/step - loss: 0.1469 - acc: 0.9488\n",
      "Epoch 62/100\n",
      "60000/60000 [==============================] - 3s 54us/step - loss: 0.1454 - acc: 0.9508\n",
      "Epoch 63/100\n",
      "60000/60000 [==============================] - 3s 53us/step - loss: 0.1483 - acc: 0.9486\n",
      "Epoch 64/100\n",
      "60000/60000 [==============================] - 3s 53us/step - loss: 0.1478 - acc: 0.9487\n",
      "Epoch 65/100\n",
      "60000/60000 [==============================] - 3s 54us/step - loss: 0.1468 - acc: 0.9488\n",
      "Epoch 66/100\n",
      "60000/60000 [==============================] - 3s 54us/step - loss: 0.1388 - acc: 0.9525\n",
      "Epoch 67/100\n",
      "60000/60000 [==============================] - 3s 53us/step - loss: 0.1376 - acc: 0.9528\n",
      "Epoch 68/100\n",
      "60000/60000 [==============================] - 3s 53us/step - loss: 0.1383 - acc: 0.9530\n",
      "Epoch 69/100\n",
      "60000/60000 [==============================] - 3s 53us/step - loss: 0.1454 - acc: 0.9487\n",
      "Epoch 70/100\n",
      "60000/60000 [==============================] - 3s 55us/step - loss: 0.1386 - acc: 0.9518\n",
      "Epoch 71/100\n",
      "60000/60000 [==============================] - 3s 57us/step - loss: 0.1368 - acc: 0.9525\n",
      "Epoch 72/100\n",
      "60000/60000 [==============================] - 3s 55us/step - loss: 0.1293 - acc: 0.9559\n",
      "Epoch 73/100\n",
      "60000/60000 [==============================] - 3s 57us/step - loss: 0.1232 - acc: 0.9588\n",
      "Epoch 74/100\n",
      "60000/60000 [==============================] - 3s 55us/step - loss: 0.1202 - acc: 0.9603\n",
      "Epoch 75/100\n",
      "60000/60000 [==============================] - 3s 56us/step - loss: 0.1194 - acc: 0.9603\n",
      "Epoch 76/100\n",
      "60000/60000 [==============================] - 3s 53us/step - loss: 0.1193 - acc: 0.9602\n",
      "Epoch 77/100\n",
      "60000/60000 [==============================] - 4s 64us/step - loss: 0.1152 - acc: 0.9618\n",
      "Epoch 78/100\n",
      "60000/60000 [==============================] - 3s 57us/step - loss: 0.1147 - acc: 0.9618\n",
      "Epoch 79/100\n"
     ]
    },
    {
     "name": "stdout",
     "output_type": "stream",
     "text": [
      "60000/60000 [==============================] - 4s 63us/step - loss: 0.1141 - acc: 0.9616\n",
      "Epoch 80/100\n",
      "60000/60000 [==============================] - 3s 54us/step - loss: 0.1078 - acc: 0.9658: 1s - loss: 0.1051 \n",
      "Epoch 81/100\n",
      "60000/60000 [==============================] - 3s 53us/step - loss: 0.1073 - acc: 0.9655\n",
      "Epoch 82/100\n",
      "60000/60000 [==============================] - 3s 53us/step - loss: 0.1052 - acc: 0.9658\n",
      "Epoch 83/100\n",
      "60000/60000 [==============================] - 3s 52us/step - loss: 0.1061 - acc: 0.9658: 1s - loss: 0.10\n",
      "Epoch 84/100\n",
      "60000/60000 [==============================] - 3s 53us/step - loss: 0.1028 - acc: 0.9666\n",
      "Epoch 85/100\n",
      "60000/60000 [==============================] - 3s 53us/step - loss: 0.1025 - acc: 0.9671\n",
      "Epoch 86/100\n",
      "60000/60000 [==============================] - 3s 52us/step - loss: 0.1029 - acc: 0.9667\n",
      "Epoch 87/100\n",
      "60000/60000 [==============================] - 3s 54us/step - loss: 0.1013 - acc: 0.9670\n",
      "Epoch 88/100\n",
      "60000/60000 [==============================] - 3s 54us/step - loss: 0.0978 - acc: 0.9682\n",
      "Epoch 89/100\n",
      "60000/60000 [==============================] - 3s 54us/step - loss: 0.0941 - acc: 0.9705\n",
      "Epoch 90/100\n",
      "60000/60000 [==============================] - 3s 58us/step - loss: 0.0935 - acc: 0.9704\n",
      "Epoch 91/100\n",
      "60000/60000 [==============================] - 3s 52us/step - loss: 0.0946 - acc: 0.9695\n",
      "Epoch 92/100\n",
      "60000/60000 [==============================] - 3s 57us/step - loss: 0.0901 - acc: 0.9726\n",
      "Epoch 93/100\n",
      "60000/60000 [==============================] - 3s 53us/step - loss: 0.0905 - acc: 0.9722\n",
      "Epoch 94/100\n",
      "60000/60000 [==============================] - 3s 53us/step - loss: 0.0893 - acc: 0.9725\n",
      "Epoch 95/100\n",
      "60000/60000 [==============================] - 3s 54us/step - loss: 0.0890 - acc: 0.9725\n",
      "Epoch 96/100\n",
      "60000/60000 [==============================] - 3s 53us/step - loss: 0.0878 - acc: 0.9731: 0s - loss: 0.0868 - acc: 0\n",
      "Epoch 97/100\n",
      "60000/60000 [==============================] - 3s 53us/step - loss: 0.0853 - acc: 0.9740\n",
      "Epoch 98/100\n",
      "60000/60000 [==============================] - 3s 54us/step - loss: 0.0844 - acc: 0.9742\n",
      "Epoch 99/100\n",
      "60000/60000 [==============================] - 3s 53us/step - loss: 0.0826 - acc: 0.9750: 0s - loss: 0.0819 - acc\n",
      "Epoch 100/100\n",
      "60000/60000 [==============================] - 3s 54us/step - loss: 0.0820 - acc: 0.9755\n"
     ]
    },
    {
     "data": {
      "text/plain": [
       "<keras.callbacks.History at 0x1b8a641f0f0>"
      ]
     },
     "execution_count": 14,
     "metadata": {},
     "output_type": "execute_result"
    }
   ],
   "source": [
    "model.fit(train_images, train_labels, batch_size=2000, epochs=100, callbacks=[cb_triangular], verbose=1)"
   ]
  },
  {
   "cell_type": "code",
   "execution_count": 17,
   "metadata": {},
   "outputs": [
    {
     "data": {
      "text/plain": [
       "[<matplotlib.lines.Line2D at 0x1b8a66a7f28>]"
      ]
     },
     "execution_count": 17,
     "metadata": {},
     "output_type": "execute_result"
    },
    {
     "data": {
      "image/png": "[encoded data removed]",
      "text/plain": [
       "<matplotlib.figure.Figure at 0x1b8a66a7f98>"
      ]
     },
     "metadata": {},
     "output_type": "display_data"
    }
   ],
   "source": [
    "plt.xlabel('Training Iterations')\n",
    "plt.ylabel('Learning Rate')\n",
    "plt.title(\"CLR - 'triangular2' Policy\")\n",
    "plt.plot(cb_triangular.history['iterations'], cb_triangular.history['lr'])\n",
    "\n",
    "# With more number of iterations the graph will correspond to that of a traingular wave"
   ]
  }
 ],
 "metadata": {
  "kernelspec": {
   "display_name": "Python 3",
   "language": "python",
   "name": "python3"
  },
  "language_info": {
   "codemirror_mode": {
    "name": "ipython",
    "version": 3
   },
   "file_extension": ".py",
   "mimetype": "text/x-python",
   "name": "python",
   "nbconvert_exporter": "python",
   "pygments_lexer": "ipython3",
   "version": "3.6.4"
  }
 },
 "nbformat": 4,
 "nbformat_minor": 2
}
