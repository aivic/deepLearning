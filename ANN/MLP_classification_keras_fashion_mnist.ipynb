{
 "cells": [
  {
   "cell_type": "code",
   "execution_count": 20,
   "metadata": {},
   "outputs": [],
   "source": [
    "import numpy as np\n",
    "import pandas as pd\n",
    "import matplotlib.pyplot as plt\n",
    "import tensorflow as tf\n",
    "import keras # Don't import keras from tensorflow like (from tensorflow import keras)\n",
    "import seaborn as sns"
   ]
  },
  {
   "cell_type": "markdown",
   "metadata": {},
   "source": [
    "## Classification using Multi-layer perceptron on Fashion-MNIST dataset.\n",
    "Fashion MNIST dataset holds 70,000 clothing images. Images value are stored in CSV files (train size: 60,000, test size: 10,000).  \n",
    "First column holds a number which is mapped to a particular cloth, other 784 columns hold corresponding pixel values.  \n",
    "0\tT-shirt/top  \n",
    "1\tTrouser  \n",
    "2\tPullover  \n",
    "3\tDress  \n",
    "4\tCoat  \n",
    "5\tSandal  \n",
    "6\tShirt  \n",
    "7\tSneaker  \n",
    "8\tBag  \n",
    "9\tAnkle boot"
   ]
  },
  {
   "cell_type": "code",
   "execution_count": 21,
   "metadata": {},
   "outputs": [],
   "source": [
    "# Reading train and test data\n",
    "train_data = pd.read_csv('fashion-mnist_train.csv')\n",
    "test_data = pd.read_csv('fashion-mnist_test.csv')"
   ]
  },
  {
   "cell_type": "code",
   "execution_count": 22,
   "metadata": {},
   "outputs": [],
   "source": [
    "# Class names\n",
    "class_names = ['T-shirt/top', 'Trouser', 'Pullover', 'Dress', 'Coat', \n",
    "               'Sandal', 'Shirt', 'Sneaker', 'Bag', 'Ankle boot']"
   ]
  },
  {
   "cell_type": "code",
   "execution_count": 23,
   "metadata": {},
   "outputs": [],
   "source": [
    "# Making validation data out of test data\n",
    "val_data = test_data.iloc[:5000,:]\n",
    "test_data = test_data.iloc[5000:,:]"
   ]
  },
  {
   "cell_type": "code",
   "execution_count": 24,
   "metadata": {},
   "outputs": [],
   "source": [
    "# Fetching the labels\n",
    "train_labels = train_data.label\n",
    "val_labels = val_data.label\n",
    "test_labels = test_data.label"
   ]
  },
  {
   "cell_type": "code",
   "execution_count": 25,
   "metadata": {},
   "outputs": [
    {
     "data": {
      "text/plain": [
       "(60000, 28, 28)"
      ]
     },
     "execution_count": 25,
     "metadata": {},
     "output_type": "execute_result"
    }
   ],
   "source": [
    "# Reshaping training data\n",
    "train_images = train_data.iloc[:,1:].values.reshape(60000, 28, 28)\n",
    "train_images.shape"
   ]
  },
  {
   "cell_type": "code",
   "execution_count": 26,
   "metadata": {},
   "outputs": [
    {
     "data": {
      "text/plain": [
       "(5000, 28, 28)"
      ]
     },
     "execution_count": 26,
     "metadata": {},
     "output_type": "execute_result"
    }
   ],
   "source": [
    "# Reshaping validation data\n",
    "val_images = val_data.iloc[:,1:].values.reshape(5000, 28, 28)\n",
    "val_images.shape"
   ]
  },
  {
   "cell_type": "code",
   "execution_count": 27,
   "metadata": {},
   "outputs": [
    {
     "data": {
      "text/plain": [
       "(5000, 28, 28)"
      ]
     },
     "execution_count": 27,
     "metadata": {},
     "output_type": "execute_result"
    }
   ],
   "source": [
    "# Reshaping test data\n",
    "test_images = test_data.iloc[:,1:].values.reshape(5000, 28, 28)\n",
    "test_images.shape"
   ]
  },
  {
   "cell_type": "code",
   "execution_count": 28,
   "metadata": {},
   "outputs": [
    {
     "data": {
      "image/png": "[encoded data removed]",
      "text/plain": [
       "<matplotlib.figure.Figure at 0x223d89454a8>"
      ]
     },
     "metadata": {},
     "output_type": "display_data"
    }
   ],
   "source": [
    "# Confirming if given data is labelled correctly by plotting images against their label names\n",
    "plt.figure(figsize=(12,6))\n",
    "for i in range(1,7):\n",
    "    ax1 = plt.subplot(2,3,i)\n",
    "    ax1.imshow(train_images[i])\n",
    "    plt.xlabel(class_names[train_labels[i]])\n",
    "    plt.xticks([]) # removing xticks\n",
    "    plt.yticks([]) # removing yticks    \n",
    "    sns.despine(left=True, bottom=True) # removing borders\n",
    "# Inference - Given data is correct. "
   ]
  },
  {
   "cell_type": "code",
   "execution_count": 29,
   "metadata": {},
   "outputs": [
    {
     "name": "stdout",
     "output_type": "stream",
     "text": [
      "[255 254]\n",
      "[254 255]\n"
     ]
    }
   ],
   "source": [
    "# Finding pixel range values for all the images\n",
    "print(pd.unique([np.ptp(i) for i in train_images]))\n",
    "print(pd.unique([np.ptp(i) for i in test_images]))\n",
    "# Inference - Only values are 255 and 254 which means that color in all images fall in the range of 0-255."
   ]
  },
  {
   "cell_type": "code",
   "execution_count": 30,
   "metadata": {},
   "outputs": [],
   "source": [
    "# Scaling data in the range of 0-1\n",
    "train_images = train_images/255.0\n",
    "val_images = val_images/255.0\n",
    "test_images = test_images/255.0"
   ]
  },
  {
   "cell_type": "code",
   "execution_count": 31,
   "metadata": {},
   "outputs": [],
   "source": [
    "# Defining multi-layer perceptron model with 1 hidden layer having 256 neurons and output layer with 10 possible answers\n",
    "model = keras.Sequential([\n",
    "    keras.layers.Flatten(input_shape=(28, 28)), # Perform conversion of higher dimensional data (here, 2-D) to 1-D data.\n",
    "    keras.layers.Dense(256, activation=tf.nn.relu), # Hidden layer with 256 neurons and ReLU activation function\n",
    "    keras.layers.Dense(10, activation=tf.nn.softmax) # Output layer with softmax activation function \n",
    "])                                                   # which gives final output in terms of probability. "
   ]
  },
  {
   "cell_type": "markdown",
   "metadata": {},
   "source": [
    "#### Prefer Average Cross Entropy over Classification error or MSE. Refer [here](https://jamesmccaffrey.wordpress.com/2013/11/05/why-you-should-use-cross-entropy-error-instead-of-classification-error-or-mean-squared-error-for-neural-network-classifier-training/) for more explanation."
   ]
  },
  {
   "cell_type": "code",
   "execution_count": 32,
   "metadata": {},
   "outputs": [],
   "source": [
    "# Defining parameters like optmizer, loss function and evaluating metric\n",
    "model.compile(loss='sparse_categorical_crossentropy',\n",
    "              optimizer=keras.optimizers.Adam(), # Learning rate and momentum can be passed inside optimizer\n",
    "              metrics=['accuracy'])"
   ]
  },
  {
   "cell_type": "code",
   "execution_count": 40,
   "metadata": {},
   "outputs": [
    {
     "name": "stdout",
     "output_type": "stream",
     "text": [
      "Train on 60000 samples, validate on 5000 samples\n",
      "Epoch 1/5\n",
      "60000/60000 [==============================] - 11s 182us/step - loss: 0.2192 - acc: 0.9178 - val_loss: 0.3097 - val_acc: 0.8850\n",
      "\n",
      "Epoch 00001: val_acc improved from -inf to 0.88500, saving model to MLP_checkpoint.hdf5\n",
      "Epoch 2/5\n",
      "60000/60000 [==============================] - 11s 182us/step - loss: 0.2156 - acc: 0.9188 - val_loss: 0.3002 - val_acc: 0.8940\n",
      "\n",
      "Epoch 00002: val_acc improved from 0.88500 to 0.89400, saving model to MLP_checkpoint.hdf5\n",
      "Epoch 3/5\n",
      "60000/60000 [==============================] - 12s 193us/step - loss: 0.2083 - acc: 0.9225 - val_loss: 0.3030 - val_acc: 0.8946\n",
      "\n",
      "Epoch 00003: val_acc improved from 0.89400 to 0.89460, saving model to MLP_checkpoint.hdf5\n",
      "Epoch 4/5\n",
      "60000/60000 [==============================] - 11s 186us/step - loss: 0.2005 - acc: 0.9248 - val_loss: 0.3121 - val_acc: 0.8916\n",
      "\n",
      "Epoch 00004: val_acc did not improve\n",
      "Epoch 5/5\n",
      "60000/60000 [==============================] - 12s 196us/step - loss: 0.1931 - acc: 0.9286 - val_loss: 0.3099 - val_acc: 0.8904\n",
      "\n",
      "Epoch 00005: val_acc did not improve\n"
     ]
    }
   ],
   "source": [
    "# Traning the model and writing log file for TensorBoard\n",
    "\n",
    "logdir = r'MLP'\n",
    "cpfile = r'MLP_checkpoint.hdf5' # Weights to be stored in HDF5 format\n",
    "\n",
    "# To store tensorboard graph logs\n",
    "cb_tensorboard = keras.callbacks.TensorBoard(log_dir=logdir, write_graph=True) \n",
    "\n",
    "# To store model checkpoint every time validation accuracy improves. You can assign different metrics to monitor like -\n",
    "# acc: Train accuracy\n",
    "# val_acc: Validation accuracy\n",
    "# loss: Train loss\n",
    "# val_loss: Validation loss\n",
    "cb_checkpoint = keras.callbacks.ModelCheckpoint(cpfile, monitor='val_acc', verbose=1, save_best_only=True, mode='max')\n",
    "\n",
    "epochs = 5\n",
    "history = model.fit(train_images, train_labels, epochs=epochs, \n",
    "                   validation_data=(val_images, val_labels),\n",
    "                   callbacks=[cb_tensorboard, cb_checkpoint])"
   ]
  },
  {
   "cell_type": "code",
   "execution_count": 41,
   "metadata": {},
   "outputs": [],
   "source": [
    "# Next time we can directly load the checkpoint model without waiting for model to train\n",
    "model.load_weights(\"MLP_checkpoint.hdf5\")"
   ]
  },
  {
   "cell_type": "code",
   "execution_count": 42,
   "metadata": {},
   "outputs": [
    {
     "name": "stdout",
     "output_type": "stream",
     "text": [
      "5000/5000 [==============================] - 0s 67us/step\n",
      "Test accuracy: 0.8992\n"
     ]
    }
   ],
   "source": [
    "# Evaluating the model on test data\n",
    "test_loss, test_acc = model.evaluate(test_images, test_labels)\n",
    "\n",
    "print('Test accuracy:', test_acc)"
   ]
  },
  {
   "cell_type": "code",
   "execution_count": 36,
   "metadata": {},
   "outputs": [],
   "source": [
    "# Prediction\n",
    "predictions = model.predict(test_images)"
   ]
  },
  {
   "cell_type": "code",
   "execution_count": 37,
   "metadata": {},
   "outputs": [
    {
     "data": {
      "image/png": "[encoded data removed]",
      "text/plain": [
       "<matplotlib.figure.Figure at 0x223a46c1240>"
      ]
     },
     "metadata": {},
     "output_type": "display_data"
    },
    {
     "name": "stdout",
     "output_type": "stream",
     "text": [
      "Original Label: Coat\n",
      "Predicted Label: Coat\n"
     ]
    }
   ],
   "source": [
    "# Visualizing the probability against target classes\n",
    "\n",
    "instance = 500 # choose an index out of the available 5000 test images \n",
    "out = pd.DataFrame(predictions[instance], index=class_names, columns=['Predicted Label'])\n",
    "out.plot.barh()\n",
    "plt.title('Original Label: '+class_names[test_labels.iloc[instance]])\n",
    "plt.show()\n",
    "\n",
    "print('Original Label: '+ class_names[test_labels.iloc[instance]])\n",
    "print('Predicted Label: ' + class_names[np.argmax(predictions[instance])]) # Predicted class with highest probability"
   ]
  },
  {
   "cell_type": "code",
   "execution_count": 38,
   "metadata": {},
   "outputs": [],
   "source": [
    "# Save model to disk\n",
    "model.save('model.h5')\n",
    "\n",
    "# Load model from the disk\n",
    "loaded_model = keras.models.load_model('model.h5')"
   ]
  }
 ],
 "metadata": {
  "kernelspec": {
   "display_name": "Python 3",
   "language": "python",
   "name": "python3"
  },
  "language_info": {
   "codemirror_mode": {
    "name": "ipython",
    "version": 3
   },
   "file_extension": ".py",
   "mimetype": "text/x-python",
   "name": "python",
   "nbconvert_exporter": "python",
   "pygments_lexer": "ipython3",
   "version": "3.6.4"
  }
 },
 "nbformat": 4,
 "nbformat_minor": 2
}
