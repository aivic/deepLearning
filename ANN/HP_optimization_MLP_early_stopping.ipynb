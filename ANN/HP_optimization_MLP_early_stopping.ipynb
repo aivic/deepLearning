{
 "cells": [
  {
   "cell_type": "markdown",
   "metadata": {},
   "source": [
    "#### Implementing early stopping on Fashion MNIST dataset using MLP"
   ]
  },
  {
   "cell_type": "code",
   "execution_count": 13,
   "metadata": {},
   "outputs": [],
   "source": [
    "import numpy as np\n",
    "import pandas as pd\n",
    "import matplotlib.pyplot as plt\n",
    "import tensorflow as tf\n",
    "import keras # Don't import keras from tensorflow like (from tensorflow import keras)\n",
    "import seaborn as sns"
   ]
  },
  {
   "cell_type": "code",
   "execution_count": 14,
   "metadata": {},
   "outputs": [],
   "source": [
    "# Reading train and test data\n",
    "train_data = pd.read_csv('fashion-mnist_train.csv')\n",
    "test_data = pd.read_csv('fashion-mnist_test.csv')"
   ]
  },
  {
   "cell_type": "code",
   "execution_count": 15,
   "metadata": {},
   "outputs": [],
   "source": [
    "# Class names\n",
    "class_names = ['T-shirt/top', 'Trouser', 'Pullover', 'Dress', 'Coat', \n",
    "               'Sandal', 'Shirt', 'Sneaker', 'Bag', 'Ankle boot']\n",
    "\n",
    "# Making validation data out of test data\n",
    "val_data = test_data.iloc[:5000,:]\n",
    "test_data = test_data.iloc[5000:,:]\n",
    "\n",
    "# Fetching the labels\n",
    "train_labels = train_data.label\n",
    "val_labels = val_data.label\n",
    "test_labels = test_data.label\n",
    "\n",
    "# Reshaping training data\n",
    "train_images = train_data.iloc[:,1:].values.reshape(60000, 28, 28)\n",
    "\n",
    "# Reshaping validation data\n",
    "val_images = val_data.iloc[:,1:].values.reshape(5000, 28, 28)\n",
    "\n",
    "# Reshaping test data\n",
    "test_images = test_data.iloc[:,1:].values.reshape(5000, 28, 28)\n",
    "\n",
    "# Scaling data in the range of 0-1\n",
    "train_images = train_images/255.0\n",
    "val_images = val_images/255.0\n",
    "test_images = test_images/255.0"
   ]
  },
  {
   "cell_type": "code",
   "execution_count": 19,
   "metadata": {},
   "outputs": [
    {
     "name": "stdout",
     "output_type": "stream",
     "text": [
      "Train on 60000 samples, validate on 5000 samples\n",
      "Epoch 1/50\n",
      "60000/60000 [==============================] - 12s 208us/step - loss: 0.4869 - acc: 0.8273 - val_loss: 0.4127 - val_acc: 0.8472\n",
      "Epoch 2/50\n",
      "60000/60000 [==============================] - 12s 200us/step - loss: 0.3704 - acc: 0.8648 - val_loss: 0.3529 - val_acc: 0.8656\n",
      "Epoch 3/50\n",
      "60000/60000 [==============================] - 12s 204us/step - loss: 0.3327 - acc: 0.8779 - val_loss: 0.3362 - val_acc: 0.8722\n",
      "Epoch 4/50\n",
      "60000/60000 [==============================] - 12s 193us/step - loss: 0.3095 - acc: 0.8860 - val_loss: 0.3211 - val_acc: 0.8764\n",
      "Epoch 5/50\n",
      "60000/60000 [==============================] - 12s 193us/step - loss: 0.2903 - acc: 0.8934 - val_loss: 0.3308 - val_acc: 0.8766\n",
      "Epoch 6/50\n",
      "60000/60000 [==============================] - 12s 203us/step - loss: 0.2731 - acc: 0.8985 - val_loss: 0.3068 - val_acc: 0.8830\n",
      "Epoch 7/50\n",
      "60000/60000 [==============================] - 12s 196us/step - loss: 0.2616 - acc: 0.9021 - val_loss: 0.3003 - val_acc: 0.8872\n",
      "Epoch 8/50\n",
      "60000/60000 [==============================] - 13s 209us/step - loss: 0.2513 - acc: 0.9056 - val_loss: 0.3439 - val_acc: 0.8738\n",
      "Epoch 9/50\n",
      "60000/60000 [==============================] - 12s 197us/step - loss: 0.2405 - acc: 0.9102 - val_loss: 0.2940 - val_acc: 0.8902\n",
      "Epoch 10/50\n",
      "60000/60000 [==============================] - 13s 219us/step - loss: 0.2310 - acc: 0.9135 - val_loss: 0.3131 - val_acc: 0.8870\n",
      "Epoch 11/50\n",
      "60000/60000 [==============================] - 13s 221us/step - loss: 0.2217 - acc: 0.9159 - val_loss: 0.2973 - val_acc: 0.8914\n",
      "Epoch 12/50\n",
      "60000/60000 [==============================] - 13s 215us/step - loss: 0.2142 - acc: 0.9197 - val_loss: 0.3123 - val_acc: 0.8842\n",
      "Epoch 13/50\n",
      "60000/60000 [==============================] - 14s 232us/step - loss: 0.2069 - acc: 0.9219 - val_loss: 0.3165 - val_acc: 0.8868\n"
     ]
    },
    {
     "data": {
      "text/plain": [
       "<keras.callbacks.History at 0x1e5005bb6a0>"
      ]
     },
     "execution_count": 19,
     "metadata": {},
     "output_type": "execute_result"
    }
   ],
   "source": [
    "model = keras.Sequential([\n",
    "        keras.layers.Flatten(input_shape=(28, 28)),         \n",
    "        keras.layers.Dense(256, activation=tf.nn.relu),         \n",
    "        keras.layers.Dense(10, activation=tf.nn.softmax) \n",
    "        ]) \n",
    "\n",
    "# Defining parameters like optmizer, loss function and evaluating metric\n",
    "model.compile(loss='sparse_categorical_crossentropy', # \n",
    "        optimizer=keras.optimizers.Adam(), # Learning rate and momentum can be passed inside optimizer\n",
    "        metrics=['accuracy'])\n",
    "\n",
    "# Defining early stopping callback.\n",
    "# After epoch 4, training can be stopped if not improved in 'val_loss' is seen\n",
    "\n",
    "cb = keras.callbacks.EarlyStopping(monitor='val_loss', patience=4) \n",
    "epochs = 50\n",
    "\n",
    "model.fit(train_images, train_labels, epochs=epochs, \n",
    "        validation_data=(val_images, val_labels),\n",
    "         callbacks=[cb])"
   ]
  },
  {
   "cell_type": "markdown",
   "metadata": {},
   "source": [
    "#### Training stopped on epoch 13 due to `val_loss` arriving in a similar range of past values. "
   ]
  }
 ],
 "metadata": {
  "kernelspec": {
   "display_name": "Python 3",
   "language": "python",
   "name": "python3"
  },
  "language_info": {
   "codemirror_mode": {
    "name": "ipython",
    "version": 3
   },
   "file_extension": ".py",
   "mimetype": "text/x-python",
   "name": "python",
   "nbconvert_exporter": "python",
   "pygments_lexer": "ipython3",
   "version": "3.6.4"
  }
 },
 "nbformat": 4,
 "nbformat_minor": 2
}
