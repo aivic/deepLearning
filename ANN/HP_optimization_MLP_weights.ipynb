{
 "cells": [
  {
   "cell_type": "markdown",
   "metadata": {},
   "source": [
    "#### Optimum weights on Fashion MNIST dataset using MLP"
   ]
  },
  {
   "cell_type": "code",
   "execution_count": 46,
   "metadata": {},
   "outputs": [],
   "source": [
    "import numpy as np\n",
    "import pandas as pd\n",
    "import matplotlib.pyplot as plt\n",
    "import tensorflow as tf\n",
    "import keras # Don't import keras from tensorflow like (from tensorflow import keras)\n",
    "import seaborn as sns"
   ]
  },
  {
   "cell_type": "code",
   "execution_count": 24,
   "metadata": {},
   "outputs": [],
   "source": [
    "# Reading train and test data\n",
    "train_data = pd.read_csv('fashion-mnist_train.csv')\n",
    "test_data = pd.read_csv('fashion-mnist_test.csv')"
   ]
  },
  {
   "cell_type": "code",
   "execution_count": 25,
   "metadata": {},
   "outputs": [],
   "source": [
    "# Class names\n",
    "class_names = ['T-shirt/top', 'Trouser', 'Pullover', 'Dress', 'Coat', \n",
    "               'Sandal', 'Shirt', 'Sneaker', 'Bag', 'Ankle boot']\n",
    "\n",
    "# Making validation data out of test data\n",
    "val_data = test_data.iloc[:5000,:]\n",
    "test_data = test_data.iloc[5000:,:]\n",
    "\n",
    "# Fetching the labels\n",
    "train_labels = train_data.label\n",
    "val_labels = val_data.label\n",
    "test_labels = test_data.label\n",
    "\n",
    "# Reshaping training data\n",
    "train_images = train_data.iloc[:,1:].values.reshape(60000, 28, 28)\n",
    "\n",
    "# Reshaping validation data\n",
    "val_images = val_data.iloc[:,1:].values.reshape(5000, 28, 28)\n",
    "\n",
    "# Reshaping test data\n",
    "test_images = test_data.iloc[:,1:].values.reshape(5000, 28, 28)\n",
    "\n",
    "# Scaling data in the range of 0-1\n",
    "train_images = train_images/255.0\n",
    "val_images = val_images/255.0\n",
    "test_images = test_images/255.0"
   ]
  },
  {
   "cell_type": "code",
   "execution_count": 55,
   "metadata": {},
   "outputs": [],
   "source": [
    "def weight_initializer(list_of_weights, init_weight_names):\n",
    "    for weight_init in range(len(list_of_weights)):        \n",
    "        # Writing structure of model\n",
    "        model = keras.Sequential([\n",
    "            keras.layers.Flatten(input_shape=(28, 28)), \n",
    "            keras.layers.Dense(256, kernel_initializer=list_of_weights[weight_init], activation=tf.nn.relu), \n",
    "            keras.layers.Dense(10, kernel_initializer=list_of_weights[weight_init], activation=tf.nn.softmax) \n",
    "        ])      \n",
    "\n",
    "        # Defining parameters like optmizer, loss function and evaluating metric\n",
    "        model.compile(loss='sparse_categorical_crossentropy', # \n",
    "                      optimizer=keras.optimizers.Adam(), # Learning rate and momentum can be passed inside optimizer\n",
    "                      metrics=['accuracy'])\n",
    "\n",
    "        # Traning the model and writing log file for TensorBoard\n",
    "        \n",
    "        logdir = r'weights\\\\' + init_weight_names[weight_init] # Each log file needs to be written in a distinct directory. (Mandatory)        \n",
    "\n",
    "        # To store tensorboard graph logs\n",
    "        cb_tensorboard = keras.callbacks.TensorBoard(log_dir=logdir, write_graph=False) \n",
    "\n",
    "        epochs = 5\n",
    "        print('Model building using ' + init_weight_names[weight_init] + ' Initializer')\n",
    "        model.fit(train_images, train_labels, epochs=epochs, \n",
    "                    validation_data=(val_images, val_labels),\n",
    "                    callbacks=[cb_tensorboard])\n",
    "        print('Built model successfully.')\n",
    "        print('')"
   ]
  },
  {
   "cell_type": "code",
   "execution_count": 56,
   "metadata": {},
   "outputs": [
    {
     "name": "stdout",
     "output_type": "stream",
     "text": [
      "Model building using Random Initializer\n",
      "Train on 60000 samples, validate on 5000 samples\n",
      "Epoch 1/5\n",
      "60000/60000 [==============================] - 14s 232us/step - loss: 0.4942 - acc: 0.8254 - val_loss: 0.4490 - val_acc: 0.8436\n",
      "Epoch 2/5\n",
      "60000/60000 [==============================] - 14s 237us/step - loss: 0.3705 - acc: 0.8658 - val_loss: 0.3454 - val_acc: 0.8736\n",
      "Epoch 3/5\n",
      "60000/60000 [==============================] - 15s 243us/step - loss: 0.3317 - acc: 0.8785 - val_loss: 0.3286 - val_acc: 0.8782\n",
      "Epoch 4/5\n",
      "60000/60000 [==============================] - 15s 250us/step - loss: 0.3070 - acc: 0.8864 - val_loss: 0.3225 - val_acc: 0.8834\n",
      "Epoch 5/5\n",
      "60000/60000 [==============================] - 14s 236us/step - loss: 0.2896 - acc: 0.8934 - val_loss: 0.3227 - val_acc: 0.8802\n",
      "Built model successfully.\n",
      "\n",
      "Model building using Glorot Initializer\n",
      "Train on 60000 samples, validate on 5000 samples\n",
      "Epoch 1/5\n",
      "60000/60000 [==============================] - 14s 229us/step - loss: 0.4891 - acc: 0.8264 - val_loss: 0.3903 - val_acc: 0.8600\n",
      "Epoch 2/5\n",
      "60000/60000 [==============================] - 13s 215us/step - loss: 0.3709 - acc: 0.8657 - val_loss: 0.3511 - val_acc: 0.8696\n",
      "Epoch 3/5\n",
      "60000/60000 [==============================] - 12s 204us/step - loss: 0.3323 - acc: 0.8784 - val_loss: 0.3520 - val_acc: 0.8734\n",
      "Epoch 4/5\n",
      "60000/60000 [==============================] - 13s 209us/step - loss: 0.3117 - acc: 0.8859 - val_loss: 0.3115 - val_acc: 0.8834\n",
      "Epoch 5/5\n",
      "60000/60000 [==============================] - 13s 213us/step - loss: 0.2938 - acc: 0.8920 - val_loss: 0.3251 - val_acc: 0.8762\n",
      "Built model successfully.\n",
      "\n",
      "Model building using He Initializer\n",
      "Train on 60000 samples, validate on 5000 samples\n",
      "Epoch 1/5\n",
      "60000/60000 [==============================] - 13s 212us/step - loss: 0.4869 - acc: 0.8280 - val_loss: 0.4000 - val_acc: 0.8564\n",
      "Epoch 2/5\n",
      "60000/60000 [==============================] - 13s 217us/step - loss: 0.3681 - acc: 0.8664 - val_loss: 0.3892 - val_acc: 0.8602\n",
      "Epoch 3/5\n",
      "60000/60000 [==============================] - 13s 218us/step - loss: 0.3322 - acc: 0.8779 - val_loss: 0.3471 - val_acc: 0.8748\n",
      "Epoch 4/5\n",
      "60000/60000 [==============================] - 13s 212us/step - loss: 0.3068 - acc: 0.8870 - val_loss: 0.3145 - val_acc: 0.8788\n",
      "Epoch 5/5\n",
      "60000/60000 [==============================] - 12s 206us/step - loss: 0.2903 - acc: 0.8926 - val_loss: 0.3235 - val_acc: 0.8758\n",
      "Built model successfully.\n",
      "\n",
      "Model building using Orthogonal Initializer\n",
      "Train on 60000 samples, validate on 5000 samples\n",
      "Epoch 1/5\n",
      "60000/60000 [==============================] - 12s 201us/step - loss: 0.4881 - acc: 0.8264 - val_loss: 0.3888 - val_acc: 0.8590\n",
      "Epoch 2/5\n",
      "60000/60000 [==============================] - 12s 204us/step - loss: 0.3710 - acc: 0.8659 - val_loss: 0.3634 - val_acc: 0.8680\n",
      "Epoch 3/5\n",
      "60000/60000 [==============================] - 13s 214us/step - loss: 0.3365 - acc: 0.8773 - val_loss: 0.3354 - val_acc: 0.8754\n",
      "Epoch 4/5\n",
      "60000/60000 [==============================] - 13s 212us/step - loss: 0.3092 - acc: 0.8866 - val_loss: 0.3173 - val_acc: 0.8822\n",
      "Epoch 5/5\n",
      "60000/60000 [==============================] - 12s 203us/step - loss: 0.2910 - acc: 0.8942 - val_loss: 0.3284 - val_acc: 0.8792\n",
      "Built model successfully.\n",
      "\n"
     ]
    }
   ],
   "source": [
    "list_of_weights = [keras.initializers.RandomNormal(), keras.initializers.glorot_normal(), \n",
    "                    keras.initializers.he_normal(), keras.initializers.Orthogonal()]\n",
    "init_weight_names = ['Random', 'Glorot', 'He', 'Orthogonal']\n",
    "weight_initializer(list_of_weights, init_weight_names)"
   ]
  },
  {
   "cell_type": "markdown",
   "metadata": {},
   "source": [
    "#### Open tensorboard in `weights` directory\n",
    "Graphs will differ due to not setting seed."
   ]
  }
 ],
 "metadata": {
  "kernelspec": {
   "display_name": "Python 3",
   "language": "python",
   "name": "python3"
  },
  "language_info": {
   "codemirror_mode": {
    "name": "ipython",
    "version": 3
   },
   "file_extension": ".py",
   "mimetype": "text/x-python",
   "name": "python",
   "nbconvert_exporter": "python",
   "pygments_lexer": "ipython3",
   "version": "3.6.4"
  }
 },
 "nbformat": 4,
 "nbformat_minor": 2
}
